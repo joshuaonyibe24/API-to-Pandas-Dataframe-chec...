{
 "cells": [
  {
   "cell_type": "code",
   "execution_count": 51,
   "id": "00b36255",
   "metadata": {},
   "outputs": [],
   "source": [
    "import pandas as pd\n",
    "import requests\n",
    "import json"
   ]
  },
  {
   "cell_type": "code",
   "execution_count": 84,
   "id": "82b5c3bf",
   "metadata": {},
   "outputs": [],
   "source": [
    "url = ('http://www.omdbapi.com/?i=tt3896198&apikey=ffe21aac')\n",
    "\n",
    "Response = requests.get(url)"
   ]
  },
  {
   "cell_type": "code",
   "execution_count": 85,
   "id": "64843ab0",
   "metadata": {},
   "outputs": [],
   "source": [
    "data = json.loads(response.content)\n"
   ]
  },
  {
   "cell_type": "code",
   "execution_count": 86,
   "id": "9ea0ef32",
   "metadata": {},
   "outputs": [
    {
     "data": {
      "text/plain": [
       "{'Title': 'Guardians of the Galaxy Vol. 2',\n",
       " 'Year': '2017',\n",
       " 'Rated': 'PG-13',\n",
       " 'Released': '05 May 2017',\n",
       " 'Runtime': '136 min',\n",
       " 'Genre': 'Action, Adventure, Comedy',\n",
       " 'Director': 'James Gunn',\n",
       " 'Writer': 'James Gunn, Dan Abnett, Andy Lanning',\n",
       " 'Actors': 'Chris Pratt, Zoe Saldana, Dave Bautista',\n",
       " 'Plot': \"The Guardians struggle to keep together as a team while dealing with their personal family issues, notably Star-Lord's encounter with his father the ambitious celestial being Ego.\",\n",
       " 'Language': 'English',\n",
       " 'Country': 'United States',\n",
       " 'Awards': 'Nominated for 1 Oscar. 15 wins & 60 nominations total',\n",
       " 'Poster': 'https://m.media-amazon.com/images/M/MV5BNjM0NTc0NzItM2FlYS00YzEwLWE0YmUtNTA2ZWIzODc2OTgxXkEyXkFqcGdeQXVyNTgwNzIyNzg@._V1_SX300.jpg',\n",
       " 'Ratings': [{'Source': 'Internet Movie Database', 'Value': '7.6/10'},\n",
       "  {'Source': 'Rotten Tomatoes', 'Value': '85%'},\n",
       "  {'Source': 'Metacritic', 'Value': '67/100'}],\n",
       " 'Metascore': '67',\n",
       " 'imdbRating': '7.6',\n",
       " 'imdbVotes': '691,435',\n",
       " 'imdbID': 'tt3896198',\n",
       " 'Type': 'movie',\n",
       " 'DVD': '22 Aug 2017',\n",
       " 'BoxOffice': '$389,813,101',\n",
       " 'Production': 'N/A',\n",
       " 'Website': 'N/A',\n",
       " 'Response': 'True'}"
      ]
     },
     "execution_count": 86,
     "metadata": {},
     "output_type": "execute_result"
    }
   ],
   "source": [
    "data "
   ]
  },
  {
   "cell_type": "code",
   "execution_count": 87,
   "id": "7891612c",
   "metadata": {},
   "outputs": [
    {
     "data": {
      "text/plain": [
       "<Response [200]>"
      ]
     },
     "execution_count": 87,
     "metadata": {},
     "output_type": "execute_result"
    }
   ],
   "source": [
    "Response"
   ]
  },
  {
   "cell_type": "code",
   "execution_count": 88,
   "id": "9feda65f",
   "metadata": {},
   "outputs": [],
   "source": [
    "movies = []\n",
    "if data['Response'] == 'True':\n",
    "    movie_data = {}\n",
    "    movie_data['Title'] = data ['Title']\n",
    "    movie_data['Year'] = data ['Year']\n",
    "    movie_data['Director'] = data ['Director']\n",
    "    movie_data['Rating'] = data['imdbRating']\n",
    "    movies.append(movie_data)"
   ]
  },
  {
   "cell_type": "code",
   "execution_count": 89,
   "id": "0a0d924c",
   "metadata": {},
   "outputs": [
    {
     "name": "stdout",
     "output_type": "stream",
     "text": [
      "                            Title  Year    Director Rating\n",
      "0  Guardians of the Galaxy Vol. 2  2017  James Gunn    7.6\n"
     ]
    }
   ],
   "source": [
    "data = pd.DataFrame(movies, columns=['Title', 'Year', 'Director','Rating'])\n",
    "print(data)"
   ]
  },
  {
   "cell_type": "code",
   "execution_count": null,
   "id": "d5d3de8f",
   "metadata": {},
   "outputs": [],
   "source": []
  }
 ],
 "metadata": {
  "kernelspec": {
   "display_name": "Python 3 (ipykernel)",
   "language": "python",
   "name": "python3"
  },
  "language_info": {
   "codemirror_mode": {
    "name": "ipython",
    "version": 3
   },
   "file_extension": ".py",
   "mimetype": "text/x-python",
   "name": "python",
   "nbconvert_exporter": "python",
   "pygments_lexer": "ipython3",
   "version": "3.9.13"
  }
 },
 "nbformat": 4,
 "nbformat_minor": 5
}
